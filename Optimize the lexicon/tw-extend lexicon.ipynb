{
 "cells": [
  {
   "cell_type": "code",
   "execution_count": 1,
   "metadata": {},
   "outputs": [],
   "source": [
    "import pandas as pd\n",
    "import numpy as np\n",
    "from nltk.corpus import stopwords\n",
    "import re"
   ]
  },
  {
   "cell_type": "code",
   "execution_count": 2,
   "metadata": {},
   "outputs": [],
   "source": [
    "# import parser\n",
    "import spacy \n",
    "from spacy.matcher import PhraseMatcher \n",
    "nlp = spacy.load('en_core_web_sm')\n",
    "matcher = PhraseMatcher(nlp.vocab)\n",
    "\n",
    "# terms would be each list in the dict"
   ]
  },
  {
   "cell_type": "code",
   "execution_count": 1,
   "metadata": {},
   "outputs": [],
   "source": [
    "import json \n",
    "# V3=V2_3+new categories V3_1=V3+add in words \n",
    "# V3_2= + keep correct ratio 80% \n",
    "# V3_3=+~70%\n",
    "# V3_4=+~60%\n",
    "# V3_5=+~50%\n",
    "with open ('2020_june_lexiconV3_2.json') as f1:\n",
    "     dic = json.load(f1)\n"
   ]
  },
  {
   "cell_type": "code",
   "execution_count": 2,
   "metadata": {},
   "outputs": [
    {
     "name": "stdout",
     "output_type": "stream",
     "text": [
      "['covid', 'economic', 'education', 'environmental', 'foreign policy', 'governance', 'health', 'immigration', 'military', 'safety', 'social cultural', 'social programs']\n"
     ]
    }
   ],
   "source": [
    "print(sorted(dic))"
   ]
  },
  {
   "cell_type": "code",
   "execution_count": 3,
   "metadata": {},
   "outputs": [],
   "source": [
    "#stopword = stopwords.words('english')\n",
    "# stopword = ['and','or']"
   ]
  },
  {
   "cell_type": "code",
   "execution_count": 4,
   "metadata": {},
   "outputs": [
    {
     "ename": "NameError",
     "evalue": "name 'pd' is not defined",
     "output_type": "error",
     "traceback": [
      "\u001b[1;31m---------------------------------------------------------------------------\u001b[0m",
      "\u001b[1;31mNameError\u001b[0m                                 Traceback (most recent call last)",
      "\u001b[1;32m<ipython-input-4-f55a365edd1d>\u001b[0m in \u001b[0;36m<module>\u001b[1;34m\u001b[0m\n\u001b[1;32m----> 1\u001b[1;33m \u001b[0mdf1\u001b[0m \u001b[1;33m=\u001b[0m \u001b[0mpd\u001b[0m\u001b[1;33m.\u001b[0m\u001b[0mread_excel\u001b[0m\u001b[1;33m(\u001b[0m\u001b[1;34mr'C:\\Users\\wangtao\\Documents\\Illumination\\data_set(2020june)\\2020_TW_Pres_1000_Posts_Topic_GOLD_v2.xlsx'\u001b[0m\u001b[1;33m)\u001b[0m\u001b[1;33m\u001b[0m\u001b[1;33m\u001b[0m\u001b[0m\n\u001b[0m\u001b[0;32m      2\u001b[0m \u001b[1;31m# df1 = pd.read_excel('Facebook Ads Analysis.xlsx') # this data is coming from the facebook ad 2016 (the )\u001b[0m\u001b[1;33m\u001b[0m\u001b[1;33m\u001b[0m\u001b[1;33m\u001b[0m\u001b[0m\n",
      "\u001b[1;31mNameError\u001b[0m: name 'pd' is not defined"
     ]
    }
   ],
   "source": [
    "df1 = pd.read_excel(r'C:\\Users\\wangtao\\Documents\\Illumination\\data_set(2020june)\\2020_TW_Pres_1000_Posts_Topic_GOLD_v2.xlsx')\n",
    "# df1 = pd.read_excel('Facebook Ads Analysis.xlsx') # this data is coming from the facebook ad 2016 (the )"
   ]
  },
  {
   "cell_type": "code",
   "execution_count": 307,
   "metadata": {},
   "outputs": [
    {
     "data": {
      "text/plain": [
       "Index(['candidate_name', 'created_at', 'favorite_count', 'reply_to',\n",
       "       'retweet_count', 'retweet_status', 'original_text', 'FULL text',\n",
       "       'tw_account_handle', 'text', 'GOLD'],\n",
       "      dtype='object')"
      ]
     },
     "execution_count": 307,
     "metadata": {},
     "output_type": "execute_result"
    }
   ],
   "source": [
    "df1.columns"
   ]
  },
  {
   "cell_type": "code",
   "execution_count": 308,
   "metadata": {},
   "outputs": [],
   "source": [
    "df1 = df1[['text','GOLD']]"
   ]
  },
  {
   "cell_type": "code",
   "execution_count": 309,
   "metadata": {},
   "outputs": [],
   "source": [
    "df1.rename(columns={'GOLD':'Gold Label'},inplace=True)"
   ]
  },
  {
   "cell_type": "code",
   "execution_count": 310,
   "metadata": {},
   "outputs": [],
   "source": [
    "# df1['Gold Label'].isnull().sum()\n",
    "# three null?\n",
    "# 974 in totall"
   ]
  },
  {
   "cell_type": "code",
   "execution_count": 311,
   "metadata": {},
   "outputs": [],
   "source": [
    "# l = ['pre-k','12-k','anti-funges','x and y','this or that']\n",
    "# l1 = []\n",
    "# for phrase in l:\n",
    "#     phrase = ' '.join([w.lower() for w in phrase.split() if w.lower() not in stopword])\n",
    "#     phrase = re.sub(\"[^\\w\\s]\",' ',phrase)\n",
    "#     l1.append(phrase)            \n",
    "    \n",
    "# print(l1)"
   ]
  },
  {
   "cell_type": "code",
   "execution_count": 312,
   "metadata": {},
   "outputs": [],
   "source": [
    "def filter_text(x):\n",
    "    url = 'http[s]?://\\S+'\n",
    "    x = re.sub(url,'',x)\n",
    "    x = re.sub(\"[^\\w\\s\\-\\.]\",' ',x)\n",
    "    #x = re.sub('[^a-zA-Z0-9]',x)\n",
    "    x = re.sub(\"\\s+\",' ',x)\n",
    "    ls=[w.lower() for w in x.split()]\n",
    "    \n",
    "    # ls=[w.lower() for w in x.split() if w.lower() not in stopword]\n",
    "    \n",
    "    return ' '.join(ls)"
   ]
  },
  {
   "cell_type": "code",
   "execution_count": 313,
   "metadata": {},
   "outputs": [],
   "source": [
    "# s = 'pre-k,12-k,anti-funges,x and y,this or that.,u.s.'\n",
    "# filter_text(s)"
   ]
  },
  {
   "cell_type": "code",
   "execution_count": 314,
   "metadata": {},
   "outputs": [],
   "source": [
    "# filter the stop words in the \n",
    "\n",
    "# def filter_lexicon(lexicon):\n",
    "#     topics=lexicon.keys()\n",
    "#     for t in topics:\n",
    "#         ls=[]\n",
    "#         for phrase in lexicon[t]:\n",
    "#             phrase = ' '.join([w.lower() for w in phrase.split()])\n",
    "#             # x = re.sub(\"[^\\w\\s\\-\\.]\",' ',x)\n",
    "#             #phrase = re.sub(\"[^\\w\\s]\",' ',phrase)\n",
    "#             #phrase = re.sub(\"\\s\\s\",' ',phrase)\n",
    "#             ls.append(phrase)            \n",
    "#         lexicon[t]=ls\n",
    "#     return lexicon"
   ]
  },
  {
   "cell_type": "code",
   "execution_count": 315,
   "metadata": {},
   "outputs": [],
   "source": [
    "# dic1 = filter_lexicon(dic)\n",
    "dic1 = dic"
   ]
  },
  {
   "cell_type": "code",
   "execution_count": 316,
   "metadata": {},
   "outputs": [],
   "source": [
    "# lower case the lexicon\n",
    "# with open ('2020_june_lexiconV3_1.json','w') as f2:\n",
    "#     json.dump(dic1,f2,sort_keys=True,indent=6)"
   ]
  },
  {
   "cell_type": "code",
   "execution_count": 317,
   "metadata": {},
   "outputs": [],
   "source": [
    "df1['text'] = df1['text'].apply(lambda x: filter_text(x))"
   ]
  },
  {
   "cell_type": "code",
   "execution_count": 318,
   "metadata": {},
   "outputs": [
    {
     "data": {
      "text/plain": [
       "0     our children s future and the success of ameri...\n",
       "1     corporate perjury seems like a good phrase to ...\n",
       "2     ....are getting caught doing very evil things ...\n",
       "3     when people in las vegas hear about our messag...\n",
       "4     the so-called whistleblower s account of my pe...\n",
       "5     newly revealed docs support flynn s innocence ...\n",
       "6     it s not just facebook. giant corporations reg...\n",
       "7     even more disturbing damning evidence that don...\n",
       "8     twitter s new ad policy will allow fossil fuel...\n",
       "9     here are just a few of trump s unqualified amb...\n",
       "10    rokhanna proposed 2 amendments to reauthorizat...\n",
       "Name: text, dtype: object"
      ]
     },
     "execution_count": 318,
     "metadata": {},
     "output_type": "execute_result"
    }
   ],
   "source": [
    "df1.loc[0:10,'text']"
   ]
  },
  {
   "cell_type": "code",
   "execution_count": 319,
   "metadata": {},
   "outputs": [],
   "source": [
    "df1.dropna(axis=0,how='any',inplace=True) "
   ]
  },
  {
   "cell_type": "code",
   "execution_count": 320,
   "metadata": {},
   "outputs": [],
   "source": [
    "df1['Gold Label']=df1['Gold Label'].apply(lambda x:','.join([m.strip() for m in sorted(x.lower().split(','))]))"
   ]
  },
  {
   "cell_type": "code",
   "execution_count": 321,
   "metadata": {},
   "outputs": [],
   "source": [
    "def find_words(x,lexicon):\n",
    "    topics=lexicon.keys() # for version3 add in health and education and covid\n",
    "\n",
    "    doc = nlp(x)\n",
    "    words= []\n",
    "    for t in topics:\n",
    "        terms= lexicon[t]\n",
    "        patterns = [nlp.make_doc(text) for text in terms]\n",
    "        matcher.add(\"TerminologyList\", None, *patterns)\n",
    "        matches = matcher(doc)\n",
    "        for match_id, start,end in matches:\n",
    "            span = doc[start:end]\n",
    "            words.append(span.text)\n",
    "    words = list(set(words))\n",
    "            \n",
    "    return ','.join(words)\n",
    "        "
   ]
  },
  {
   "cell_type": "code",
   "execution_count": 322,
   "metadata": {},
   "outputs": [],
   "source": [
    "# find the words in each message\n",
    "def find_topic(x,lexicon):\n",
    "    topics=lexicon.keys()\n",
    "    \n",
    "    if x=='':\n",
    "        return ''\n",
    "    \n",
    "    if x != '': \n",
    "        words = x.split(',')\n",
    "        labels = []\n",
    "        \n",
    "        for t in topics:            \n",
    "            terms = lexicon[t]\n",
    "            if set(words)&set(terms):\n",
    "                #print(t)\n",
    "                #print(set(words)&set(terms))\n",
    "                labels.append(t)\n",
    "                \n",
    "                #l = sorted(labels)\n",
    "        \n",
    "        return  ','.join(sorted(labels))\n",
    "                \n",
    "        #return ','.join(labels)\n",
    "            "
   ]
  },
  {
   "cell_type": "code",
   "execution_count": null,
   "metadata": {},
   "outputs": [],
   "source": [
    "# get the new labels from classifer2 which depending on the updated lexicon\n",
    "df1['words'] = df1['text'].astype(str).apply(lambda x: find_words(x,dic1))\n",
    "#df1.rename(columns={'m_label':'words'},inplace=True)"
   ]
  },
  {
   "cell_type": "code",
   "execution_count": null,
   "metadata": {},
   "outputs": [],
   "source": [
    "df1.tail(5)"
   ]
  },
  {
   "cell_type": "code",
   "execution_count": null,
   "metadata": {},
   "outputs": [],
   "source": [
    "df1['m_label'] = df1['words'].apply(lambda x: find_topic(x,dic1))"
   ]
  },
  {
   "cell_type": "code",
   "execution_count": null,
   "metadata": {},
   "outputs": [],
   "source": [
    "df1['m_label'] = df1['m_label'].apply(lambda x: 'no topic' if x=='' else x)"
   ]
  },
  {
   "cell_type": "code",
   "execution_count": null,
   "metadata": {},
   "outputs": [],
   "source": [
    "df1.head(5)"
   ]
  },
  {
   "cell_type": "code",
   "execution_count": 257,
   "metadata": {},
   "outputs": [],
   "source": [
    "# df1[['Gold Label','words','m_label']].to_csv('2020june20_tw_LabelResult.csv',index=False)"
   ]
  },
  {
   "cell_type": "markdown",
   "metadata": {},
   "source": [
    "### Make the matrix and calculate precision, recall F1"
   ]
  },
  {
   "cell_type": "code",
   "execution_count": 258,
   "metadata": {},
   "outputs": [],
   "source": [
    "# df1 = pd.read_csv('2020june20_tw_LabelResult.csv')"
   ]
  },
  {
   "cell_type": "code",
   "execution_count": 300,
   "metadata": {},
   "outputs": [],
   "source": [
    "df2 = df1[['Gold Label', 'm_label']]"
   ]
  },
  {
   "cell_type": "code",
   "execution_count": 301,
   "metadata": {},
   "outputs": [
    {
     "data": {
      "text/plain": [
       "['covid_pred',\n",
       " 'economic_pred',\n",
       " 'education_pred',\n",
       " 'environmental_pred',\n",
       " 'foreign policy_pred',\n",
       " 'governance_pred',\n",
       " 'health_pred',\n",
       " 'immigration_pred',\n",
       " 'military_pred',\n",
       " 'safety_pred',\n",
       " 'social cultural_pred',\n",
       " 'social programs_pred']"
      ]
     },
     "execution_count": 301,
     "metadata": {},
     "output_type": "execute_result"
    }
   ],
   "source": [
    "# pred_label = ['covid_pred','economic_pred', 'environmental_pred', 'foreign policy_pred', 'governance_pred', \n",
    "#               'immigration_pred', 'military_pred', 'safety_pred','social programs_pred', \n",
    "#               'social cultural_pred','health_pred','education_pred']\n",
    "\n",
    "l_topic = dic1.keys()\n",
    "\n",
    "pred_label = [x+'_pred' for x in l_topic]\n",
    "\n",
    "pred_label\n",
    "    "
   ]
  },
  {
   "cell_type": "code",
   "execution_count": 302,
   "metadata": {},
   "outputs": [
    {
     "data": {
      "text/html": [
       "<div>\n",
       "<style scoped>\n",
       "    .dataframe tbody tr th:only-of-type {\n",
       "        vertical-align: middle;\n",
       "    }\n",
       "\n",
       "    .dataframe tbody tr th {\n",
       "        vertical-align: top;\n",
       "    }\n",
       "\n",
       "    .dataframe thead th {\n",
       "        text-align: right;\n",
       "    }\n",
       "</style>\n",
       "<table border=\"1\" class=\"dataframe\">\n",
       "  <thead>\n",
       "    <tr style=\"text-align: right;\">\n",
       "      <th></th>\n",
       "      <th>Gold Label</th>\n",
       "      <th>m_label</th>\n",
       "      <th>covid</th>\n",
       "      <th>economic</th>\n",
       "      <th>education</th>\n",
       "      <th>environmental</th>\n",
       "      <th>foreign policy</th>\n",
       "      <th>governance</th>\n",
       "      <th>health</th>\n",
       "      <th>immigration</th>\n",
       "      <th>...</th>\n",
       "      <th>education_pred</th>\n",
       "      <th>environmental_pred</th>\n",
       "      <th>foreign policy_pred</th>\n",
       "      <th>governance_pred</th>\n",
       "      <th>health_pred</th>\n",
       "      <th>immigration_pred</th>\n",
       "      <th>military_pred</th>\n",
       "      <th>safety_pred</th>\n",
       "      <th>social cultural_pred</th>\n",
       "      <th>social programs_pred</th>\n",
       "    </tr>\n",
       "  </thead>\n",
       "  <tbody>\n",
       "    <tr>\n",
       "      <td>990</td>\n",
       "      <td>economic</td>\n",
       "      <td>economic</td>\n",
       "      <td>0.0</td>\n",
       "      <td>0.0</td>\n",
       "      <td>0.0</td>\n",
       "      <td>0.0</td>\n",
       "      <td>0.0</td>\n",
       "      <td>0.0</td>\n",
       "      <td>0.0</td>\n",
       "      <td>0.0</td>\n",
       "      <td>...</td>\n",
       "      <td>0.0</td>\n",
       "      <td>0.0</td>\n",
       "      <td>0.0</td>\n",
       "      <td>0.0</td>\n",
       "      <td>0.0</td>\n",
       "      <td>0.0</td>\n",
       "      <td>0.0</td>\n",
       "      <td>0.0</td>\n",
       "      <td>0.0</td>\n",
       "      <td>0.0</td>\n",
       "    </tr>\n",
       "    <tr>\n",
       "      <td>991</td>\n",
       "      <td>no topic</td>\n",
       "      <td>no topic</td>\n",
       "      <td>0.0</td>\n",
       "      <td>0.0</td>\n",
       "      <td>0.0</td>\n",
       "      <td>0.0</td>\n",
       "      <td>0.0</td>\n",
       "      <td>0.0</td>\n",
       "      <td>0.0</td>\n",
       "      <td>0.0</td>\n",
       "      <td>...</td>\n",
       "      <td>0.0</td>\n",
       "      <td>0.0</td>\n",
       "      <td>0.0</td>\n",
       "      <td>0.0</td>\n",
       "      <td>0.0</td>\n",
       "      <td>0.0</td>\n",
       "      <td>0.0</td>\n",
       "      <td>0.0</td>\n",
       "      <td>0.0</td>\n",
       "      <td>0.0</td>\n",
       "    </tr>\n",
       "    <tr>\n",
       "      <td>992</td>\n",
       "      <td>no topic</td>\n",
       "      <td>no topic</td>\n",
       "      <td>0.0</td>\n",
       "      <td>0.0</td>\n",
       "      <td>0.0</td>\n",
       "      <td>0.0</td>\n",
       "      <td>0.0</td>\n",
       "      <td>0.0</td>\n",
       "      <td>0.0</td>\n",
       "      <td>0.0</td>\n",
       "      <td>...</td>\n",
       "      <td>0.0</td>\n",
       "      <td>0.0</td>\n",
       "      <td>0.0</td>\n",
       "      <td>0.0</td>\n",
       "      <td>0.0</td>\n",
       "      <td>0.0</td>\n",
       "      <td>0.0</td>\n",
       "      <td>0.0</td>\n",
       "      <td>0.0</td>\n",
       "      <td>0.0</td>\n",
       "    </tr>\n",
       "    <tr>\n",
       "      <td>993</td>\n",
       "      <td>no topic</td>\n",
       "      <td>no topic</td>\n",
       "      <td>0.0</td>\n",
       "      <td>0.0</td>\n",
       "      <td>0.0</td>\n",
       "      <td>0.0</td>\n",
       "      <td>0.0</td>\n",
       "      <td>0.0</td>\n",
       "      <td>0.0</td>\n",
       "      <td>0.0</td>\n",
       "      <td>...</td>\n",
       "      <td>0.0</td>\n",
       "      <td>0.0</td>\n",
       "      <td>0.0</td>\n",
       "      <td>0.0</td>\n",
       "      <td>0.0</td>\n",
       "      <td>0.0</td>\n",
       "      <td>0.0</td>\n",
       "      <td>0.0</td>\n",
       "      <td>0.0</td>\n",
       "      <td>0.0</td>\n",
       "    </tr>\n",
       "    <tr>\n",
       "      <td>994</td>\n",
       "      <td>social cultural</td>\n",
       "      <td>no topic</td>\n",
       "      <td>0.0</td>\n",
       "      <td>0.0</td>\n",
       "      <td>0.0</td>\n",
       "      <td>0.0</td>\n",
       "      <td>0.0</td>\n",
       "      <td>0.0</td>\n",
       "      <td>0.0</td>\n",
       "      <td>0.0</td>\n",
       "      <td>...</td>\n",
       "      <td>0.0</td>\n",
       "      <td>0.0</td>\n",
       "      <td>0.0</td>\n",
       "      <td>0.0</td>\n",
       "      <td>0.0</td>\n",
       "      <td>0.0</td>\n",
       "      <td>0.0</td>\n",
       "      <td>0.0</td>\n",
       "      <td>0.0</td>\n",
       "      <td>0.0</td>\n",
       "    </tr>\n",
       "    <tr>\n",
       "      <td>995</td>\n",
       "      <td>no topic</td>\n",
       "      <td>covid</td>\n",
       "      <td>0.0</td>\n",
       "      <td>0.0</td>\n",
       "      <td>0.0</td>\n",
       "      <td>0.0</td>\n",
       "      <td>0.0</td>\n",
       "      <td>0.0</td>\n",
       "      <td>0.0</td>\n",
       "      <td>0.0</td>\n",
       "      <td>...</td>\n",
       "      <td>0.0</td>\n",
       "      <td>0.0</td>\n",
       "      <td>0.0</td>\n",
       "      <td>0.0</td>\n",
       "      <td>0.0</td>\n",
       "      <td>0.0</td>\n",
       "      <td>0.0</td>\n",
       "      <td>0.0</td>\n",
       "      <td>0.0</td>\n",
       "      <td>0.0</td>\n",
       "    </tr>\n",
       "    <tr>\n",
       "      <td>996</td>\n",
       "      <td>economic</td>\n",
       "      <td>no topic</td>\n",
       "      <td>0.0</td>\n",
       "      <td>0.0</td>\n",
       "      <td>0.0</td>\n",
       "      <td>0.0</td>\n",
       "      <td>0.0</td>\n",
       "      <td>0.0</td>\n",
       "      <td>0.0</td>\n",
       "      <td>0.0</td>\n",
       "      <td>...</td>\n",
       "      <td>0.0</td>\n",
       "      <td>0.0</td>\n",
       "      <td>0.0</td>\n",
       "      <td>0.0</td>\n",
       "      <td>0.0</td>\n",
       "      <td>0.0</td>\n",
       "      <td>0.0</td>\n",
       "      <td>0.0</td>\n",
       "      <td>0.0</td>\n",
       "      <td>0.0</td>\n",
       "    </tr>\n",
       "    <tr>\n",
       "      <td>997</td>\n",
       "      <td>no topic</td>\n",
       "      <td>no topic</td>\n",
       "      <td>0.0</td>\n",
       "      <td>0.0</td>\n",
       "      <td>0.0</td>\n",
       "      <td>0.0</td>\n",
       "      <td>0.0</td>\n",
       "      <td>0.0</td>\n",
       "      <td>0.0</td>\n",
       "      <td>0.0</td>\n",
       "      <td>...</td>\n",
       "      <td>0.0</td>\n",
       "      <td>0.0</td>\n",
       "      <td>0.0</td>\n",
       "      <td>0.0</td>\n",
       "      <td>0.0</td>\n",
       "      <td>0.0</td>\n",
       "      <td>0.0</td>\n",
       "      <td>0.0</td>\n",
       "      <td>0.0</td>\n",
       "      <td>0.0</td>\n",
       "    </tr>\n",
       "    <tr>\n",
       "      <td>998</td>\n",
       "      <td>no topic</td>\n",
       "      <td>no topic</td>\n",
       "      <td>0.0</td>\n",
       "      <td>0.0</td>\n",
       "      <td>0.0</td>\n",
       "      <td>0.0</td>\n",
       "      <td>0.0</td>\n",
       "      <td>0.0</td>\n",
       "      <td>0.0</td>\n",
       "      <td>0.0</td>\n",
       "      <td>...</td>\n",
       "      <td>0.0</td>\n",
       "      <td>0.0</td>\n",
       "      <td>0.0</td>\n",
       "      <td>0.0</td>\n",
       "      <td>0.0</td>\n",
       "      <td>0.0</td>\n",
       "      <td>0.0</td>\n",
       "      <td>0.0</td>\n",
       "      <td>0.0</td>\n",
       "      <td>0.0</td>\n",
       "    </tr>\n",
       "    <tr>\n",
       "      <td>999</td>\n",
       "      <td>no topic</td>\n",
       "      <td>no topic</td>\n",
       "      <td>NaN</td>\n",
       "      <td>NaN</td>\n",
       "      <td>NaN</td>\n",
       "      <td>NaN</td>\n",
       "      <td>NaN</td>\n",
       "      <td>NaN</td>\n",
       "      <td>NaN</td>\n",
       "      <td>NaN</td>\n",
       "      <td>...</td>\n",
       "      <td>NaN</td>\n",
       "      <td>NaN</td>\n",
       "      <td>NaN</td>\n",
       "      <td>NaN</td>\n",
       "      <td>NaN</td>\n",
       "      <td>NaN</td>\n",
       "      <td>NaN</td>\n",
       "      <td>NaN</td>\n",
       "      <td>NaN</td>\n",
       "      <td>NaN</td>\n",
       "    </tr>\n",
       "  </tbody>\n",
       "</table>\n",
       "<p>10 rows × 26 columns</p>\n",
       "</div>"
      ],
      "text/plain": [
       "          Gold Label   m_label  covid  economic  education  environmental  \\\n",
       "990         economic  economic    0.0       0.0        0.0            0.0   \n",
       "991         no topic  no topic    0.0       0.0        0.0            0.0   \n",
       "992         no topic  no topic    0.0       0.0        0.0            0.0   \n",
       "993         no topic  no topic    0.0       0.0        0.0            0.0   \n",
       "994  social cultural  no topic    0.0       0.0        0.0            0.0   \n",
       "995         no topic     covid    0.0       0.0        0.0            0.0   \n",
       "996         economic  no topic    0.0       0.0        0.0            0.0   \n",
       "997         no topic  no topic    0.0       0.0        0.0            0.0   \n",
       "998         no topic  no topic    0.0       0.0        0.0            0.0   \n",
       "999         no topic  no topic    NaN       NaN        NaN            NaN   \n",
       "\n",
       "     foreign policy  governance  health  immigration  ...  education_pred  \\\n",
       "990             0.0         0.0     0.0          0.0  ...             0.0   \n",
       "991             0.0         0.0     0.0          0.0  ...             0.0   \n",
       "992             0.0         0.0     0.0          0.0  ...             0.0   \n",
       "993             0.0         0.0     0.0          0.0  ...             0.0   \n",
       "994             0.0         0.0     0.0          0.0  ...             0.0   \n",
       "995             0.0         0.0     0.0          0.0  ...             0.0   \n",
       "996             0.0         0.0     0.0          0.0  ...             0.0   \n",
       "997             0.0         0.0     0.0          0.0  ...             0.0   \n",
       "998             0.0         0.0     0.0          0.0  ...             0.0   \n",
       "999             NaN         NaN     NaN          NaN  ...             NaN   \n",
       "\n",
       "     environmental_pred  foreign policy_pred  governance_pred  health_pred  \\\n",
       "990                 0.0                  0.0              0.0          0.0   \n",
       "991                 0.0                  0.0              0.0          0.0   \n",
       "992                 0.0                  0.0              0.0          0.0   \n",
       "993                 0.0                  0.0              0.0          0.0   \n",
       "994                 0.0                  0.0              0.0          0.0   \n",
       "995                 0.0                  0.0              0.0          0.0   \n",
       "996                 0.0                  0.0              0.0          0.0   \n",
       "997                 0.0                  0.0              0.0          0.0   \n",
       "998                 0.0                  0.0              0.0          0.0   \n",
       "999                 NaN                  NaN              NaN          NaN   \n",
       "\n",
       "     immigration_pred  military_pred  safety_pred  social cultural_pred  \\\n",
       "990               0.0            0.0          0.0                   0.0   \n",
       "991               0.0            0.0          0.0                   0.0   \n",
       "992               0.0            0.0          0.0                   0.0   \n",
       "993               0.0            0.0          0.0                   0.0   \n",
       "994               0.0            0.0          0.0                   0.0   \n",
       "995               0.0            0.0          0.0                   0.0   \n",
       "996               0.0            0.0          0.0                   0.0   \n",
       "997               0.0            0.0          0.0                   0.0   \n",
       "998               0.0            0.0          0.0                   0.0   \n",
       "999               NaN            NaN          NaN                   NaN   \n",
       "\n",
       "     social programs_pred  \n",
       "990                   0.0  \n",
       "991                   0.0  \n",
       "992                   0.0  \n",
       "993                   0.0  \n",
       "994                   0.0  \n",
       "995                   0.0  \n",
       "996                   0.0  \n",
       "997                   0.0  \n",
       "998                   0.0  \n",
       "999                   NaN  \n",
       "\n",
       "[10 rows x 26 columns]"
      ]
     },
     "execution_count": 302,
     "metadata": {},
     "output_type": "execute_result"
    }
   ],
   "source": [
    "n=len(df1)\n",
    "#n=1000\n",
    "data0 = {x:np.zeros(n,dtype=int) for x in l_topic}\n",
    "data1 = {x:np.zeros(n,dtype=int) for x in pred_label}\n",
    "\n",
    "table0= pd.DataFrame(data0)\n",
    "\n",
    "tabel1 = pd.DataFrame(data1)\n",
    "\n",
    "c_df = pd.concat([df2,table0,tabel1],axis=1)\n",
    "\n",
    "c_df.tail(10)"
   ]
  },
  {
   "cell_type": "code",
   "execution_count": 262,
   "metadata": {},
   "outputs": [],
   "source": [
    " # in Ben and Juliar's annotation, they made some spelling mistakes of the labels like,\n",
    "# typing the \"social programs\" as \"social program\", type \"environment\" as \"environmental\" etc.\n",
    "# so I made this excel and correct the spelling manually.\n",
    "# next step is labeling the matrix, so you may got key error because of the spelling mistakes\n",
    "\n",
    "#c_df.to_excel('calculate_f1_june20th.xlsx',index=False)"
   ]
  },
  {
   "cell_type": "code",
   "execution_count": 263,
   "metadata": {},
   "outputs": [],
   "source": [
    "# c_df = pd.read_excel('calculate_f1_june20th.xlsx')"
   ]
  },
  {
   "cell_type": "code",
   "execution_count": 264,
   "metadata": {},
   "outputs": [
    {
     "name": "stderr",
     "output_type": "stream",
     "text": [
      "C:\\Users\\wangtao\\Anaconda3\\lib\\site-packages\\ipykernel_launcher.py:11: SettingWithCopyWarning: \n",
      "A value is trying to be set on a copy of a slice from a DataFrame\n",
      "\n",
      "See the caveats in the documentation: http://pandas.pydata.org/pandas-docs/stable/user_guide/indexing.html#returning-a-view-versus-a-copy\n",
      "  # This is added back by InteractiveShellApp.init_path()\n",
      "C:\\Users\\wangtao\\Anaconda3\\lib\\site-packages\\ipykernel_launcher.py:18: SettingWithCopyWarning: \n",
      "A value is trying to be set on a copy of a slice from a DataFrame\n",
      "\n",
      "See the caveats in the documentation: http://pandas.pydata.org/pandas-docs/stable/user_guide/indexing.html#returning-a-view-versus-a-copy\n",
      "C:\\Users\\wangtao\\Anaconda3\\lib\\site-packages\\ipykernel_launcher.py:6: SettingWithCopyWarning: \n",
      "A value is trying to be set on a copy of a slice from a DataFrame\n",
      "\n",
      "See the caveats in the documentation: http://pandas.pydata.org/pandas-docs/stable/user_guide/indexing.html#returning-a-view-versus-a-copy\n",
      "  \n",
      "C:\\Users\\wangtao\\Anaconda3\\lib\\site-packages\\ipykernel_launcher.py:14: SettingWithCopyWarning: \n",
      "A value is trying to be set on a copy of a slice from a DataFrame\n",
      "\n",
      "See the caveats in the documentation: http://pandas.pydata.org/pandas-docs/stable/user_guide/indexing.html#returning-a-view-versus-a-copy\n",
      "  \n"
     ]
    }
   ],
   "source": [
    "for index, row in c_df.iterrows():\n",
    "    #print(index)\n",
    "    #print(row)\n",
    "    \n",
    "    if len(row['Gold Label'].split(',')) ==1 and row['Gold Label']!= 'no topic':\n",
    "        c_df[row['Gold Label'].strip()][index]=1\n",
    "        \n",
    "    if len(row['Gold Label'].split(','))>1:\n",
    "        for w in row['Gold Label'].split(','):\n",
    "            #print(index)\n",
    "            c_df[w.strip()][index]=1\n",
    "    \n",
    "    if len(row['m_label'].split(',')) ==1 and row['m_label']!= 'no topic':\n",
    "        c_df[row['m_label']+'_pred'][index]=1\n",
    "        \n",
    "    if len(row['m_label'].split(','))>1:\n",
    "        for w in row['m_label'].split(','):\n",
    "            c_df[w+'_pred'][index]=1\n",
    "    else: \n",
    "        pass"
   ]
  },
  {
   "cell_type": "code",
   "execution_count": 265,
   "metadata": {
    "scrolled": true
   },
   "outputs": [
    {
     "data": {
      "text/plain": [
       "Index(['Gold Label', 'm_label', 'economic', 'environmental', 'foreign policy',\n",
       "       'governance', 'immigration', 'military', 'safety', 'social cultural',\n",
       "       'social programs', 'covid', 'health', 'education', 'economic_pred',\n",
       "       'environmental_pred', 'foreign policy_pred', 'governance_pred',\n",
       "       'immigration_pred', 'military_pred', 'safety_pred',\n",
       "       'social cultural_pred', 'social programs_pred', 'covid_pred',\n",
       "       'health_pred', 'education_pred'],\n",
       "      dtype='object')"
      ]
     },
     "execution_count": 265,
     "metadata": {},
     "output_type": "execute_result"
    }
   ],
   "source": [
    "c_df.columns"
   ]
  },
  {
   "cell_type": "code",
   "execution_count": 266,
   "metadata": {},
   "outputs": [],
   "source": [
    "C_df = c_df.drop(columns=['Gold Label', 'm_label'])"
   ]
  },
  {
   "cell_type": "code",
   "execution_count": 267,
   "metadata": {},
   "outputs": [
    {
     "data": {
      "text/plain": [
       "(999, 24)"
      ]
     },
     "execution_count": 267,
     "metadata": {},
     "output_type": "execute_result"
    }
   ],
   "source": [
    "C_df.shape"
   ]
  },
  {
   "cell_type": "code",
   "execution_count": 157,
   "metadata": {},
   "outputs": [],
   "source": [
    "# x = C_df.columns.get_loc('governance') # get the column index\n",
    "# x"
   ]
  },
  {
   "cell_type": "code",
   "execution_count": 268,
   "metadata": {},
   "outputs": [],
   "source": [
    "def confusion_matrix1(vectorg, vectpre):\n",
    "    tp = 0 \n",
    "    tn = 0 \n",
    "    fp = 0\n",
    "    fn = 0\n",
    "    for i in range(len(vectorg)):\n",
    "        if vectorg[i] == 1 and vectpre[i] == 1:\n",
    "            tp = tp + 1\n",
    "        elif vectorg[i] == 1 and vectpre[i] == 0:\n",
    "            fn = fn + 1\n",
    "        elif vectorg[i] == 0 and vectpre[i] == 0:\n",
    "            tn = tn + 1\n",
    "        elif vectorg[i] == 0 and vectpre[i] == 1:\n",
    "            fp = fp + 1\n",
    "    print('tp =', tp ,'fp =', fp ,'tn =',tn,'fn =', fn)\n",
    "    print(\"the number of true label：\"+ str(tp+fn))\n",
    "    #\n",
    "    return (tp, fp, tn, fn)\n",
    "        \n",
    "def precision_recall(vectorg, vectpre):\n",
    "    #print(vectorg[0],vectpre[0])\n",
    "    tp, fp, tn, fn = confusion_matrix1(vectorg, vectpre)\n",
    "    precision = tp/(tp + fp)\n",
    "    print ('precision = ' + str(precision))\n",
    "    recall = tp/ (tp + fn)\n",
    "    print ('recall = ' + str(recall))\n",
    "    if precision!=0 and recall!=0:\n",
    "        f1 = 2/((1/precision)+(1/recall))\n",
    "        print ('f1 =' + str(f1))\n",
    "    if precision==0 or recall==0:\n",
    "        print ('ZeroDivisionError')\n",
    "        f1 = 'ZeroDivisionError'\n",
    "    \n",
    "    return [precision,recall,f1]\n",
    "    "
   ]
  },
  {
   "cell_type": "code",
   "execution_count": 269,
   "metadata": {},
   "outputs": [
    {
     "name": "stdout",
     "output_type": "stream",
     "text": [
      "['economic', 'environmental', 'foreign policy', 'governance', 'immigration', 'military', 'safety', 'social cultural', 'social programs', 'covid', 'health', 'education']\n"
     ]
    }
   ],
   "source": [
    "categories = list(C_df.columns.values)\n",
    "categories = categories[0:12]        \n",
    "print (categories)\n"
   ]
  },
  {
   "cell_type": "code",
   "execution_count": 270,
   "metadata": {},
   "outputs": [
    {
     "name": "stdout",
     "output_type": "stream",
     "text": [
      "economic\n",
      "tp = 96 fp = 21 tn = 848 fn = 34\n",
      "the number of true label：130\n",
      "precision = 0.8205128205128205\n",
      "recall = 0.7384615384615385\n",
      "f1 =0.7773279352226721\n",
      "\n",
      "\n",
      "environmental\n",
      "tp = 43 fp = 18 tn = 931 fn = 7\n",
      "the number of true label：50\n",
      "precision = 0.7049180327868853\n",
      "recall = 0.86\n",
      "f1 =0.7747747747747747\n",
      "\n",
      "\n",
      "foreign policy\n",
      "tp = 33 fp = 17 tn = 939 fn = 10\n",
      "the number of true label：43\n",
      "precision = 0.66\n",
      "recall = 0.7674418604651163\n",
      "f1 =0.7096774193548386\n",
      "\n",
      "\n",
      "governance\n",
      "tp = 72 fp = 132 tn = 757 fn = 38\n",
      "the number of true label：110\n",
      "precision = 0.35294117647058826\n",
      "recall = 0.6545454545454545\n",
      "f1 =0.45859872611464975\n",
      "\n",
      "\n",
      "immigration\n",
      "tp = 26 fp = 1 tn = 968 fn = 4\n",
      "the number of true label：30\n",
      "precision = 0.9629629629629629\n",
      "recall = 0.8666666666666667\n",
      "f1 =0.9122807017543859\n",
      "\n",
      "\n",
      "military\n",
      "tp = 23 fp = 5 tn = 967 fn = 4\n",
      "the number of true label：27\n",
      "precision = 0.8214285714285714\n",
      "recall = 0.8518518518518519\n",
      "f1 =0.8363636363636364\n",
      "\n",
      "\n",
      "safety\n",
      "tp = 47 fp = 10 tn = 918 fn = 24\n",
      "the number of true label：71\n",
      "precision = 0.8245614035087719\n",
      "recall = 0.6619718309859155\n",
      "f1 =0.7343749999999999\n",
      "\n",
      "\n",
      "social cultural\n",
      "tp = 48 fp = 26 tn = 895 fn = 30\n",
      "the number of true label：78\n",
      "precision = 0.6486486486486487\n",
      "recall = 0.6153846153846154\n",
      "f1 =0.6315789473684211\n",
      "\n",
      "\n",
      "social programs\n",
      "tp = 54 fp = 7 tn = 917 fn = 21\n",
      "the number of true label：75\n",
      "precision = 0.8852459016393442\n",
      "recall = 0.72\n",
      "f1 =0.7941176470588235\n",
      "\n",
      "\n",
      "covid\n",
      "tp = 32 fp = 124 tn = 841 fn = 2\n",
      "the number of true label：34\n",
      "precision = 0.20512820512820512\n",
      "recall = 0.9411764705882353\n",
      "f1 =0.3368421052631579\n",
      "\n",
      "\n",
      "health\n",
      "tp = 47 fp = 5 tn = 902 fn = 45\n",
      "the number of true label：92\n",
      "precision = 0.9038461538461539\n",
      "recall = 0.5108695652173914\n",
      "f1 =0.6527777777777778\n",
      "\n",
      "\n",
      "education\n",
      "tp = 24 fp = 5 tn = 965 fn = 5\n",
      "the number of true label：29\n",
      "precision = 0.8275862068965517\n",
      "recall = 0.8275862068965517\n",
      "f1 =0.8275862068965518\n",
      "\n",
      "\n"
     ]
    }
   ],
   "source": [
    "result = {}\n",
    "for category in categories:\n",
    "    x = C_df.columns.get_loc(category)\n",
    "    print(category.strip())\n",
    "    r_dic = {category.strip():precision_recall(C_df.iloc[:,x],C_df.iloc[:,x+12])}\n",
    "    result.update(r_dic)\n",
    "    print('\\n')"
   ]
  },
  {
   "cell_type": "code",
   "execution_count": 271,
   "metadata": {},
   "outputs": [
    {
     "data": {
      "text/html": [
       "<div>\n",
       "<style scoped>\n",
       "    .dataframe tbody tr th:only-of-type {\n",
       "        vertical-align: middle;\n",
       "    }\n",
       "\n",
       "    .dataframe tbody tr th {\n",
       "        vertical-align: top;\n",
       "    }\n",
       "\n",
       "    .dataframe thead th {\n",
       "        text-align: right;\n",
       "    }\n",
       "</style>\n",
       "<table border=\"1\" class=\"dataframe\">\n",
       "  <thead>\n",
       "    <tr style=\"text-align: right;\">\n",
       "      <th></th>\n",
       "      <th>Precision</th>\n",
       "      <th>Recall</th>\n",
       "      <th>F1_Score</th>\n",
       "    </tr>\n",
       "  </thead>\n",
       "  <tbody>\n",
       "    <tr>\n",
       "      <td>economic</td>\n",
       "      <td>0.820513</td>\n",
       "      <td>0.738462</td>\n",
       "      <td>0.777328</td>\n",
       "    </tr>\n",
       "    <tr>\n",
       "      <td>environmental</td>\n",
       "      <td>0.704918</td>\n",
       "      <td>0.860000</td>\n",
       "      <td>0.774775</td>\n",
       "    </tr>\n",
       "    <tr>\n",
       "      <td>foreign policy</td>\n",
       "      <td>0.660000</td>\n",
       "      <td>0.767442</td>\n",
       "      <td>0.709677</td>\n",
       "    </tr>\n",
       "    <tr>\n",
       "      <td>governance</td>\n",
       "      <td>0.352941</td>\n",
       "      <td>0.654545</td>\n",
       "      <td>0.458599</td>\n",
       "    </tr>\n",
       "    <tr>\n",
       "      <td>immigration</td>\n",
       "      <td>0.962963</td>\n",
       "      <td>0.866667</td>\n",
       "      <td>0.912281</td>\n",
       "    </tr>\n",
       "    <tr>\n",
       "      <td>military</td>\n",
       "      <td>0.821429</td>\n",
       "      <td>0.851852</td>\n",
       "      <td>0.836364</td>\n",
       "    </tr>\n",
       "    <tr>\n",
       "      <td>safety</td>\n",
       "      <td>0.824561</td>\n",
       "      <td>0.661972</td>\n",
       "      <td>0.734375</td>\n",
       "    </tr>\n",
       "    <tr>\n",
       "      <td>social cultural</td>\n",
       "      <td>0.648649</td>\n",
       "      <td>0.615385</td>\n",
       "      <td>0.631579</td>\n",
       "    </tr>\n",
       "    <tr>\n",
       "      <td>social programs</td>\n",
       "      <td>0.885246</td>\n",
       "      <td>0.720000</td>\n",
       "      <td>0.794118</td>\n",
       "    </tr>\n",
       "    <tr>\n",
       "      <td>covid</td>\n",
       "      <td>0.205128</td>\n",
       "      <td>0.941176</td>\n",
       "      <td>0.336842</td>\n",
       "    </tr>\n",
       "    <tr>\n",
       "      <td>health</td>\n",
       "      <td>0.903846</td>\n",
       "      <td>0.510870</td>\n",
       "      <td>0.652778</td>\n",
       "    </tr>\n",
       "    <tr>\n",
       "      <td>education</td>\n",
       "      <td>0.827586</td>\n",
       "      <td>0.827586</td>\n",
       "      <td>0.827586</td>\n",
       "    </tr>\n",
       "  </tbody>\n",
       "</table>\n",
       "</div>"
      ],
      "text/plain": [
       "                 Precision    Recall  F1_Score\n",
       "economic          0.820513  0.738462  0.777328\n",
       "environmental     0.704918  0.860000  0.774775\n",
       "foreign policy    0.660000  0.767442  0.709677\n",
       "governance        0.352941  0.654545  0.458599\n",
       "immigration       0.962963  0.866667  0.912281\n",
       "military          0.821429  0.851852  0.836364\n",
       "safety            0.824561  0.661972  0.734375\n",
       "social cultural   0.648649  0.615385  0.631579\n",
       "social programs   0.885246  0.720000  0.794118\n",
       "covid             0.205128  0.941176  0.336842\n",
       "health            0.903846  0.510870  0.652778\n",
       "education         0.827586  0.827586  0.827586"
      ]
     },
     "execution_count": 271,
     "metadata": {},
     "output_type": "execute_result"
    }
   ],
   "source": [
    "re_df = pd.DataFrame(result)\n",
    "re_df = re_df.T\n",
    "re_df.rename(columns={0:'Precision',1:'Recall',2:'F1_Score'},inplace=True)\n",
    "re_df"
   ]
  },
  {
   "cell_type": "code",
   "execution_count": 272,
   "metadata": {},
   "outputs": [],
   "source": [
    "re_df.to_csv('2020_Twitter_CNN_june20_1.csv')"
   ]
  },
  {
   "cell_type": "code",
   "execution_count": null,
   "metadata": {},
   "outputs": [],
   "source": []
  }
 ],
 "metadata": {
  "kernelspec": {
   "display_name": "Python 3",
   "language": "python",
   "name": "python3"
  },
  "language_info": {
   "codemirror_mode": {
    "name": "ipython",
    "version": 3
   },
   "file_extension": ".py",
   "mimetype": "text/x-python",
   "name": "python",
   "nbconvert_exporter": "python",
   "pygments_lexer": "ipython3",
   "version": "3.7.4"
  }
 },
 "nbformat": 4,
 "nbformat_minor": 2
}
